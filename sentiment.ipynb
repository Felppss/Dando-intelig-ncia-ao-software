{
  "nbformat": 4,
  "nbformat_minor": 0,
  "metadata": {
    "colab": {
      "provenance": [],
      "toc_visible": true,
      "authorship_tag": "ABX9TyM/qkgVQfRmUUXGmkh2LqnE",
      "include_colab_link": true
    },
    "kernelspec": {
      "name": "python3",
      "display_name": "Python 3"
    },
    "language_info": {
      "name": "python"
    }
  },
  "cells": [
    {
      "cell_type": "markdown",
      "metadata": {
        "id": "view-in-github",
        "colab_type": "text"
      },
      "source": [
        "<a href=\"https://colab.research.google.com/github/Felppss/Dando-intelig-ncia-ao-software/blob/main/sentiment.ipynb\" target=\"_parent\"><img src=\"https://colab.research.google.com/assets/colab-badge.svg\" alt=\"Open In Colab\"/></a>"
      ]
    },
    {
      "cell_type": "markdown",
      "source": [
        "# **Análise de Sentimentos**\n",
        "\n",
        "Este notebook realiza análise de sentimentos em tweets sobre clubes de futebol ingleses,\n",
        "utilizando Processamento de Linguagem Natural com spaCy e SpacyTextBlob."
      ],
      "metadata": {
        "id": "CRJV2u4N1SJ2"
      }
    },
    {
      "cell_type": "markdown",
      "source": [
        "# Passo 1: Instalando as bibliotecas e recarregando o ambiente"
      ],
      "metadata": {
        "id": "15se1Soc2gbH"
      }
    },
    {
      "cell_type": "code",
      "execution_count": 23,
      "metadata": {
        "colab": {
          "base_uri": "https://localhost:8080/"
        },
        "collapsed": true,
        "outputId": "878fa9b6-8aef-4231-ec9f-88ffa6d4ac85",
        "id": "QCcE722B20AJ"
      },
      "outputs": [
        {
          "output_type": "stream",
          "name": "stdout",
          "text": [
            "Requirement already satisfied: pip in /usr/local/lib/python3.11/dist-packages (25.1.1)\n",
            "Requirement already satisfied: setuptools in /usr/local/lib/python3.11/dist-packages (80.9.0)\n",
            "Requirement already satisfied: wheel in /usr/local/lib/python3.11/dist-packages (0.45.1)\n",
            "Requirement already satisfied: spacy==3.8.0 in /usr/local/lib/python3.11/dist-packages (3.8.0)\n",
            "Requirement already satisfied: spacy-legacy<3.1.0,>=3.0.11 in /usr/local/lib/python3.11/dist-packages (from spacy==3.8.0) (3.0.12)\n",
            "Requirement already satisfied: spacy-loggers<2.0.0,>=1.0.0 in /usr/local/lib/python3.11/dist-packages (from spacy==3.8.0) (1.0.5)\n",
            "Requirement already satisfied: murmurhash<1.1.0,>=0.28.0 in /usr/local/lib/python3.11/dist-packages (from spacy==3.8.0) (1.0.12)\n",
            "Requirement already satisfied: cymem<2.1.0,>=2.0.2 in /usr/local/lib/python3.11/dist-packages (from spacy==3.8.0) (2.0.11)\n",
            "Requirement already satisfied: preshed<3.1.0,>=3.0.2 in /usr/local/lib/python3.11/dist-packages (from spacy==3.8.0) (3.0.9)\n",
            "Requirement already satisfied: thinc<8.3.0,>=8.2.2 in /usr/local/lib/python3.11/dist-packages (from spacy==3.8.0) (8.2.5)\n",
            "Requirement already satisfied: wasabi<1.2.0,>=0.9.1 in /usr/local/lib/python3.11/dist-packages (from spacy==3.8.0) (1.1.3)\n",
            "Requirement already satisfied: srsly<3.0.0,>=2.4.3 in /usr/local/lib/python3.11/dist-packages (from spacy==3.8.0) (2.5.1)\n",
            "Requirement already satisfied: catalogue<2.1.0,>=2.0.6 in /usr/local/lib/python3.11/dist-packages (from spacy==3.8.0) (2.0.10)\n",
            "Requirement already satisfied: weasel<0.5.0,>=0.1.0 in /usr/local/lib/python3.11/dist-packages (from spacy==3.8.0) (0.4.1)\n",
            "Requirement already satisfied: typer<1.0.0,>=0.3.0 in /usr/local/lib/python3.11/dist-packages (from spacy==3.8.0) (0.15.3)\n",
            "Requirement already satisfied: tqdm<5.0.0,>=4.38.0 in /usr/local/lib/python3.11/dist-packages (from spacy==3.8.0) (4.67.1)\n",
            "Requirement already satisfied: requests<3.0.0,>=2.13.0 in /usr/local/lib/python3.11/dist-packages (from spacy==3.8.0) (2.32.3)\n",
            "Requirement already satisfied: pydantic!=1.8,!=1.8.1,<3.0.0,>=1.7.4 in /usr/local/lib/python3.11/dist-packages (from spacy==3.8.0) (2.11.4)\n",
            "Requirement already satisfied: jinja2 in /usr/local/lib/python3.11/dist-packages (from spacy==3.8.0) (3.1.6)\n",
            "Requirement already satisfied: setuptools in /usr/local/lib/python3.11/dist-packages (from spacy==3.8.0) (80.9.0)\n",
            "Requirement already satisfied: packaging>=20.0 in /usr/local/lib/python3.11/dist-packages (from spacy==3.8.0) (24.2)\n",
            "Requirement already satisfied: langcodes<4.0.0,>=3.2.0 in /usr/local/lib/python3.11/dist-packages (from spacy==3.8.0) (3.5.0)\n",
            "Requirement already satisfied: numpy>=1.19.0 in /usr/local/lib/python3.11/dist-packages (from spacy==3.8.0) (1.26.4)\n",
            "Requirement already satisfied: language-data>=1.2 in /usr/local/lib/python3.11/dist-packages (from langcodes<4.0.0,>=3.2.0->spacy==3.8.0) (1.3.0)\n",
            "Requirement already satisfied: annotated-types>=0.6.0 in /usr/local/lib/python3.11/dist-packages (from pydantic!=1.8,!=1.8.1,<3.0.0,>=1.7.4->spacy==3.8.0) (0.7.0)\n",
            "Requirement already satisfied: pydantic-core==2.33.2 in /usr/local/lib/python3.11/dist-packages (from pydantic!=1.8,!=1.8.1,<3.0.0,>=1.7.4->spacy==3.8.0) (2.33.2)\n",
            "Requirement already satisfied: typing-extensions>=4.12.2 in /usr/local/lib/python3.11/dist-packages (from pydantic!=1.8,!=1.8.1,<3.0.0,>=1.7.4->spacy==3.8.0) (4.13.2)\n",
            "Requirement already satisfied: typing-inspection>=0.4.0 in /usr/local/lib/python3.11/dist-packages (from pydantic!=1.8,!=1.8.1,<3.0.0,>=1.7.4->spacy==3.8.0) (0.4.1)\n",
            "Requirement already satisfied: charset-normalizer<4,>=2 in /usr/local/lib/python3.11/dist-packages (from requests<3.0.0,>=2.13.0->spacy==3.8.0) (3.4.2)\n",
            "Requirement already satisfied: idna<4,>=2.5 in /usr/local/lib/python3.11/dist-packages (from requests<3.0.0,>=2.13.0->spacy==3.8.0) (3.10)\n",
            "Requirement already satisfied: urllib3<3,>=1.21.1 in /usr/local/lib/python3.11/dist-packages (from requests<3.0.0,>=2.13.0->spacy==3.8.0) (2.4.0)\n",
            "Requirement already satisfied: certifi>=2017.4.17 in /usr/local/lib/python3.11/dist-packages (from requests<3.0.0,>=2.13.0->spacy==3.8.0) (2025.4.26)\n",
            "Requirement already satisfied: blis<0.8.0,>=0.7.8 in /usr/local/lib/python3.11/dist-packages (from thinc<8.3.0,>=8.2.2->spacy==3.8.0) (0.7.11)\n",
            "Requirement already satisfied: confection<1.0.0,>=0.0.1 in /usr/local/lib/python3.11/dist-packages (from thinc<8.3.0,>=8.2.2->spacy==3.8.0) (0.1.5)\n",
            "Requirement already satisfied: click>=8.0.0 in /usr/local/lib/python3.11/dist-packages (from typer<1.0.0,>=0.3.0->spacy==3.8.0) (8.2.1)\n",
            "Requirement already satisfied: shellingham>=1.3.0 in /usr/local/lib/python3.11/dist-packages (from typer<1.0.0,>=0.3.0->spacy==3.8.0) (1.5.4)\n",
            "Requirement already satisfied: rich>=10.11.0 in /usr/local/lib/python3.11/dist-packages (from typer<1.0.0,>=0.3.0->spacy==3.8.0) (13.9.4)\n",
            "Requirement already satisfied: cloudpathlib<1.0.0,>=0.7.0 in /usr/local/lib/python3.11/dist-packages (from weasel<0.5.0,>=0.1.0->spacy==3.8.0) (0.21.1)\n",
            "Requirement already satisfied: smart-open<8.0.0,>=5.2.1 in /usr/local/lib/python3.11/dist-packages (from weasel<0.5.0,>=0.1.0->spacy==3.8.0) (7.1.0)\n",
            "Requirement already satisfied: wrapt in /usr/local/lib/python3.11/dist-packages (from smart-open<8.0.0,>=5.2.1->weasel<0.5.0,>=0.1.0->spacy==3.8.0) (1.17.2)\n",
            "Requirement already satisfied: marisa-trie>=1.1.0 in /usr/local/lib/python3.11/dist-packages (from language-data>=1.2->langcodes<4.0.0,>=3.2.0->spacy==3.8.0) (1.2.1)\n",
            "Requirement already satisfied: markdown-it-py>=2.2.0 in /usr/local/lib/python3.11/dist-packages (from rich>=10.11.0->typer<1.0.0,>=0.3.0->spacy==3.8.0) (3.0.0)\n",
            "Requirement already satisfied: pygments<3.0.0,>=2.13.0 in /usr/local/lib/python3.11/dist-packages (from rich>=10.11.0->typer<1.0.0,>=0.3.0->spacy==3.8.0) (2.19.1)\n",
            "Requirement already satisfied: mdurl~=0.1 in /usr/local/lib/python3.11/dist-packages (from markdown-it-py>=2.2.0->rich>=10.11.0->typer<1.0.0,>=0.3.0->spacy==3.8.0) (0.1.2)\n",
            "Requirement already satisfied: MarkupSafe>=2.0 in /usr/local/lib/python3.11/dist-packages (from jinja2->spacy==3.8.0) (3.0.2)\n",
            "\n",
            "\u001b[38;5;1m✘ No compatible package found for 'en_core_web_sm==3.8.0' (spaCy\n",
            "v3.8.0)\u001b[0m\n",
            "\n",
            "Requirement already satisfied: spacytextblob==4.0.0 in /usr/local/lib/python3.11/dist-packages (4.0.0)\n",
            "Requirement already satisfied: spacy<4.0,>=3.0 in /usr/local/lib/python3.11/dist-packages (from spacytextblob==4.0.0) (3.8.0)\n",
            "Requirement already satisfied: textblob<0.16.0,>=0.15.3 in /usr/local/lib/python3.11/dist-packages (from spacytextblob==4.0.0) (0.15.3)\n",
            "Requirement already satisfied: spacy-legacy<3.1.0,>=3.0.11 in /usr/local/lib/python3.11/dist-packages (from spacy<4.0,>=3.0->spacytextblob==4.0.0) (3.0.12)\n",
            "Requirement already satisfied: spacy-loggers<2.0.0,>=1.0.0 in /usr/local/lib/python3.11/dist-packages (from spacy<4.0,>=3.0->spacytextblob==4.0.0) (1.0.5)\n",
            "Requirement already satisfied: murmurhash<1.1.0,>=0.28.0 in /usr/local/lib/python3.11/dist-packages (from spacy<4.0,>=3.0->spacytextblob==4.0.0) (1.0.12)\n",
            "Requirement already satisfied: cymem<2.1.0,>=2.0.2 in /usr/local/lib/python3.11/dist-packages (from spacy<4.0,>=3.0->spacytextblob==4.0.0) (2.0.11)\n",
            "Requirement already satisfied: preshed<3.1.0,>=3.0.2 in /usr/local/lib/python3.11/dist-packages (from spacy<4.0,>=3.0->spacytextblob==4.0.0) (3.0.9)\n",
            "Requirement already satisfied: thinc<8.3.0,>=8.2.2 in /usr/local/lib/python3.11/dist-packages (from spacy<4.0,>=3.0->spacytextblob==4.0.0) (8.2.5)\n",
            "Requirement already satisfied: wasabi<1.2.0,>=0.9.1 in /usr/local/lib/python3.11/dist-packages (from spacy<4.0,>=3.0->spacytextblob==4.0.0) (1.1.3)\n",
            "Requirement already satisfied: srsly<3.0.0,>=2.4.3 in /usr/local/lib/python3.11/dist-packages (from spacy<4.0,>=3.0->spacytextblob==4.0.0) (2.5.1)\n",
            "Requirement already satisfied: catalogue<2.1.0,>=2.0.6 in /usr/local/lib/python3.11/dist-packages (from spacy<4.0,>=3.0->spacytextblob==4.0.0) (2.0.10)\n",
            "Requirement already satisfied: weasel<0.5.0,>=0.1.0 in /usr/local/lib/python3.11/dist-packages (from spacy<4.0,>=3.0->spacytextblob==4.0.0) (0.4.1)\n",
            "Requirement already satisfied: typer<1.0.0,>=0.3.0 in /usr/local/lib/python3.11/dist-packages (from spacy<4.0,>=3.0->spacytextblob==4.0.0) (0.15.3)\n",
            "Requirement already satisfied: tqdm<5.0.0,>=4.38.0 in /usr/local/lib/python3.11/dist-packages (from spacy<4.0,>=3.0->spacytextblob==4.0.0) (4.67.1)\n",
            "Requirement already satisfied: requests<3.0.0,>=2.13.0 in /usr/local/lib/python3.11/dist-packages (from spacy<4.0,>=3.0->spacytextblob==4.0.0) (2.32.3)\n",
            "Requirement already satisfied: pydantic!=1.8,!=1.8.1,<3.0.0,>=1.7.4 in /usr/local/lib/python3.11/dist-packages (from spacy<4.0,>=3.0->spacytextblob==4.0.0) (2.11.4)\n",
            "Requirement already satisfied: jinja2 in /usr/local/lib/python3.11/dist-packages (from spacy<4.0,>=3.0->spacytextblob==4.0.0) (3.1.6)\n",
            "Requirement already satisfied: setuptools in /usr/local/lib/python3.11/dist-packages (from spacy<4.0,>=3.0->spacytextblob==4.0.0) (80.9.0)\n",
            "Requirement already satisfied: packaging>=20.0 in /usr/local/lib/python3.11/dist-packages (from spacy<4.0,>=3.0->spacytextblob==4.0.0) (24.2)\n",
            "Requirement already satisfied: langcodes<4.0.0,>=3.2.0 in /usr/local/lib/python3.11/dist-packages (from spacy<4.0,>=3.0->spacytextblob==4.0.0) (3.5.0)\n",
            "Requirement already satisfied: numpy>=1.19.0 in /usr/local/lib/python3.11/dist-packages (from spacy<4.0,>=3.0->spacytextblob==4.0.0) (1.26.4)\n",
            "Requirement already satisfied: language-data>=1.2 in /usr/local/lib/python3.11/dist-packages (from langcodes<4.0.0,>=3.2.0->spacy<4.0,>=3.0->spacytextblob==4.0.0) (1.3.0)\n",
            "Requirement already satisfied: annotated-types>=0.6.0 in /usr/local/lib/python3.11/dist-packages (from pydantic!=1.8,!=1.8.1,<3.0.0,>=1.7.4->spacy<4.0,>=3.0->spacytextblob==4.0.0) (0.7.0)\n",
            "Requirement already satisfied: pydantic-core==2.33.2 in /usr/local/lib/python3.11/dist-packages (from pydantic!=1.8,!=1.8.1,<3.0.0,>=1.7.4->spacy<4.0,>=3.0->spacytextblob==4.0.0) (2.33.2)\n",
            "Requirement already satisfied: typing-extensions>=4.12.2 in /usr/local/lib/python3.11/dist-packages (from pydantic!=1.8,!=1.8.1,<3.0.0,>=1.7.4->spacy<4.0,>=3.0->spacytextblob==4.0.0) (4.13.2)\n",
            "Requirement already satisfied: typing-inspection>=0.4.0 in /usr/local/lib/python3.11/dist-packages (from pydantic!=1.8,!=1.8.1,<3.0.0,>=1.7.4->spacy<4.0,>=3.0->spacytextblob==4.0.0) (0.4.1)\n",
            "Requirement already satisfied: charset-normalizer<4,>=2 in /usr/local/lib/python3.11/dist-packages (from requests<3.0.0,>=2.13.0->spacy<4.0,>=3.0->spacytextblob==4.0.0) (3.4.2)\n",
            "Requirement already satisfied: idna<4,>=2.5 in /usr/local/lib/python3.11/dist-packages (from requests<3.0.0,>=2.13.0->spacy<4.0,>=3.0->spacytextblob==4.0.0) (3.10)\n",
            "Requirement already satisfied: urllib3<3,>=1.21.1 in /usr/local/lib/python3.11/dist-packages (from requests<3.0.0,>=2.13.0->spacy<4.0,>=3.0->spacytextblob==4.0.0) (2.4.0)\n",
            "Requirement already satisfied: certifi>=2017.4.17 in /usr/local/lib/python3.11/dist-packages (from requests<3.0.0,>=2.13.0->spacy<4.0,>=3.0->spacytextblob==4.0.0) (2025.4.26)\n",
            "Requirement already satisfied: nltk>=3.1 in /usr/local/lib/python3.11/dist-packages (from textblob<0.16.0,>=0.15.3->spacytextblob==4.0.0) (3.9.1)\n",
            "Requirement already satisfied: blis<0.8.0,>=0.7.8 in /usr/local/lib/python3.11/dist-packages (from thinc<8.3.0,>=8.2.2->spacy<4.0,>=3.0->spacytextblob==4.0.0) (0.7.11)\n",
            "Requirement already satisfied: confection<1.0.0,>=0.0.1 in /usr/local/lib/python3.11/dist-packages (from thinc<8.3.0,>=8.2.2->spacy<4.0,>=3.0->spacytextblob==4.0.0) (0.1.5)\n",
            "Requirement already satisfied: click>=8.0.0 in /usr/local/lib/python3.11/dist-packages (from typer<1.0.0,>=0.3.0->spacy<4.0,>=3.0->spacytextblob==4.0.0) (8.2.1)\n",
            "Requirement already satisfied: shellingham>=1.3.0 in /usr/local/lib/python3.11/dist-packages (from typer<1.0.0,>=0.3.0->spacy<4.0,>=3.0->spacytextblob==4.0.0) (1.5.4)\n",
            "Requirement already satisfied: rich>=10.11.0 in /usr/local/lib/python3.11/dist-packages (from typer<1.0.0,>=0.3.0->spacy<4.0,>=3.0->spacytextblob==4.0.0) (13.9.4)\n",
            "Requirement already satisfied: cloudpathlib<1.0.0,>=0.7.0 in /usr/local/lib/python3.11/dist-packages (from weasel<0.5.0,>=0.1.0->spacy<4.0,>=3.0->spacytextblob==4.0.0) (0.21.1)\n",
            "Requirement already satisfied: smart-open<8.0.0,>=5.2.1 in /usr/local/lib/python3.11/dist-packages (from weasel<0.5.0,>=0.1.0->spacy<4.0,>=3.0->spacytextblob==4.0.0) (7.1.0)\n",
            "Requirement already satisfied: wrapt in /usr/local/lib/python3.11/dist-packages (from smart-open<8.0.0,>=5.2.1->weasel<0.5.0,>=0.1.0->spacy<4.0,>=3.0->spacytextblob==4.0.0) (1.17.2)\n",
            "Requirement already satisfied: marisa-trie>=1.1.0 in /usr/local/lib/python3.11/dist-packages (from language-data>=1.2->langcodes<4.0.0,>=3.2.0->spacy<4.0,>=3.0->spacytextblob==4.0.0) (1.2.1)\n",
            "Requirement already satisfied: joblib in /usr/local/lib/python3.11/dist-packages (from nltk>=3.1->textblob<0.16.0,>=0.15.3->spacytextblob==4.0.0) (1.5.0)\n",
            "Requirement already satisfied: regex>=2021.8.3 in /usr/local/lib/python3.11/dist-packages (from nltk>=3.1->textblob<0.16.0,>=0.15.3->spacytextblob==4.0.0) (2024.11.6)\n",
            "Requirement already satisfied: markdown-it-py>=2.2.0 in /usr/local/lib/python3.11/dist-packages (from rich>=10.11.0->typer<1.0.0,>=0.3.0->spacy<4.0,>=3.0->spacytextblob==4.0.0) (3.0.0)\n",
            "Requirement already satisfied: pygments<3.0.0,>=2.13.0 in /usr/local/lib/python3.11/dist-packages (from rich>=10.11.0->typer<1.0.0,>=0.3.0->spacy<4.0,>=3.0->spacytextblob==4.0.0) (2.19.1)\n",
            "Requirement already satisfied: mdurl~=0.1 in /usr/local/lib/python3.11/dist-packages (from markdown-it-py>=2.2.0->rich>=10.11.0->typer<1.0.0,>=0.3.0->spacy<4.0,>=3.0->spacytextblob==4.0.0) (0.1.2)\n",
            "Requirement already satisfied: MarkupSafe>=2.0 in /usr/local/lib/python3.11/dist-packages (from jinja2->spacy<4.0,>=3.0->spacytextblob==4.0.0) (3.0.2)\n",
            "[nltk_data] Downloading package brown to /root/nltk_data...\n",
            "[nltk_data]   Package brown is already up-to-date!\n",
            "[nltk_data] Downloading package punkt to /root/nltk_data...\n",
            "[nltk_data]   Package punkt is already up-to-date!\n",
            "[nltk_data] Downloading package wordnet to /root/nltk_data...\n",
            "[nltk_data]   Package wordnet is already up-to-date!\n",
            "[nltk_data] Downloading package averaged_perceptron_tagger to\n",
            "[nltk_data]     /root/nltk_data...\n",
            "[nltk_data]   Package averaged_perceptron_tagger is already up-to-\n",
            "[nltk_data]       date!\n",
            "[nltk_data] Downloading package conll2000 to /root/nltk_data...\n",
            "[nltk_data]   Package conll2000 is already up-to-date!\n",
            "[nltk_data] Downloading package movie_reviews to /root/nltk_data...\n",
            "[nltk_data]   Package movie_reviews is already up-to-date!\n",
            "Finished.\n"
          ]
        },
        {
          "output_type": "stream",
          "name": "stderr",
          "text": [
            "/usr/lib/python3.11/importlib/__init__.py:169: UserWarning: pkg_resources is deprecated as an API. See https://setuptools.pypa.io/en/latest/pkg_resources.html. The pkg_resources package is slated for removal as early as 2025-11-30. Refrain from using this package or pin to Setuptools<81.\n",
            "  _bootstrap._exec(spec, module)\n"
          ]
        },
        {
          "output_type": "execute_result",
          "data": {
            "text/plain": [
              "<module 'pkg_resources' from '/usr/local/lib/python3.11/dist-packages/pkg_resources/__init__.py'>"
            ]
          },
          "metadata": {},
          "execution_count": 23
        }
      ],
      "source": [
        "!pip install -U pip setuptools wheel\n",
        "!pip install -U spacy==3.8.0\n",
        "!python -m spacy download en_core_web_sm==3.8.0\n",
        "!pip install spacytextblob==4.0.0\n",
        "!python -m textblob.download_corpora\n",
        "\n",
        "import pkg_resources, imp\n",
        "imp.reload(pkg_resources)"
      ]
    },
    {
      "cell_type": "markdown",
      "source": [
        "# Passo 2: Importando as bibliotecas para análise de sentimento"
      ],
      "metadata": {
        "id": "vVyhiDNs26VZ"
      }
    },
    {
      "cell_type": "code",
      "source": [
        "import spacy\n",
        "from spacytextblob.spacytextblob import SpacyTextBlob"
      ],
      "metadata": {
        "id": "fbYs8UBU2-A4"
      },
      "execution_count": 24,
      "outputs": []
    },
    {
      "cell_type": "markdown",
      "source": [
        "# Passo 3: Definindo o modelo e a pipeline a serem utilizadas na análise"
      ],
      "metadata": {
        "id": "EClwKrae3ESi"
      }
    },
    {
      "cell_type": "code",
      "source": [
        "nlp = spacy.load('en_core_web_sm')\n",
        "\n",
        "# Verifica e remove se já existir\n",
        "if 'spacytextblob' in nlp.pipe_names:\n",
        "    nlp.remove_pipe('spacytextblob')\n",
        "\n",
        "# Adiciona corretamente o componente\n",
        "nlp.add_pipe('spacytextblob')\n",
        "\n",
        "print(\"Pipeline configurado com sucesso!\")\n",
        "print(\"Componentes ativos:\", nlp.pipe_names)"
      ],
      "metadata": {
        "colab": {
          "base_uri": "https://localhost:8080/"
        },
        "outputId": "8a8b86f8-6e30-450b-fe69-90722a270cfe",
        "collapsed": true,
        "id": "-4tHJNNk3DWL"
      },
      "execution_count": 25,
      "outputs": [
        {
          "output_type": "stream",
          "name": "stdout",
          "text": [
            "Pipeline configurado com sucesso!\n",
            "Componentes ativos: ['tok2vec', 'tagger', 'parser', 'attribute_ruler', 'lemmatizer', 'ner', 'spacytextblob']\n"
          ]
        }
      ]
    },
    {
      "cell_type": "markdown",
      "source": [
        "# Passo 4: Definindo o texto inicial a ser analisado para verificação/validação da biblioteca"
      ],
      "metadata": {
        "id": "vaRhTvcK3O6O"
      }
    },
    {
      "cell_type": "code",
      "source": [
        "user_input = 'This is a wonderful campsite. I loved the serenity and the birds chirping in the morning.'\n",
        "doc = nlp(user_input)"
      ],
      "metadata": {
        "id": "BJpg4-Tk3TTQ"
      },
      "execution_count": 32,
      "outputs": []
    },
    {
      "cell_type": "markdown",
      "source": [
        "# Passo 5: Exibindo o resultado da primeira análise"
      ],
      "metadata": {
        "id": "nmVTlepL3V_-"
      }
    },
    {
      "cell_type": "code",
      "source": [
        "input_polarity = doc._.polarity\n",
        "sentiment = {\n",
        "    'score': input_polarity\n",
        "}\n",
        "print(\"Resultado do teste:\")\n",
        "print(sentiment)"
      ],
      "metadata": {
        "colab": {
          "base_uri": "https://localhost:8080/"
        },
        "outputId": "c82554f8-25b0-4f6c-9fa8-7303427cab47",
        "collapsed": true,
        "id": "WjmWgKMB3cPv"
      },
      "execution_count": 27,
      "outputs": [
        {
          "output_type": "stream",
          "name": "stdout",
          "text": [
            "Resultado do teste:\n",
            "{'score': 0.85}\n"
          ]
        }
      ]
    },
    {
      "cell_type": "markdown",
      "source": [
        "# Passo 6: Definindo a lista de tweets a serem analisadas"
      ],
      "metadata": {
        "id": "Tp43DUkY3ebd"
      }
    },
    {
      "cell_type": "code",
      "source": [
        "tweets = [\n",
        "    \"Bayer Leverkusen goalkeeper Bernd Leno will not be going to Napoli. His agent Uli Ferber to Bild: I can confirm that there were negotiations with Napoli, which we have broken off. Napoli is not an option. Atletico Madrid and Arsenal are the other strong rumours. #B04 #AFC\",\n",
        "    \"@ChelseaFC Don't make him regret it and start him over Hoofiz\",\n",
        "    \"@LiverpoolFF @AnfieldEdition He's a liar, made up. I've unfollowed him as loads of others have. Pure blagger. #LFC\",\n",
        "    \"@theesk @Everton Didn't realise Kenwright is due to leave at the end of the month. In all seriousness could you see him being interested in us?\",\n",
        "    \"@hasanshahbaz19 @LFC My knowledge has decreased somewhat in the past few seasons\",\n",
        "    \"Report: Linked with #Everton and #Wolves, Italians set to sign £4.5m-rated winger\",\n",
        "    \"Am seeing tweets that there’s been a fall out @Everton between the money men... I’m presuming it’s just a quiet news day or some kopite with nothing better to do! @ALANMYERSMEDIA\",\n",
        "    \"@LFC @officialAL20 @IntChampionsCup @ManUtd Expect loads of excuses after tonight’s game\",\n",
        "    \"@MartinDiamond17 @azryahmad @Baren_D @Mathewlewis1997 @iamheinthu @DiMarzio @Alissonbecker @LFC @SkySportsNews @SkySport @OfficialASRoma I’m just fine I have your fanbase angry over stating facts should ask them hun. Xo\",\n",
        "    \"What a weekend of football results! @ManUtd @Glentoran @RangersFC &amp; Hearts ????\",\n",
        "    \"@ChelseaFC For the first time in a long while, my heart was relaxed while watching Chelsea. Really enjoyed it today. Come on, CHELSEA!!!\",\n",
        "    \"@ChelseaFC @CesarAzpi What a fantastic signing worth every single penny ??\",\n",
        "    \"Pogba scores, Pogba assists. But tomorrow papers won't be telling you this, instead they will tell you how he'll end up at Juve because he's unhappy, frustrated, have grudges with Mourinho and so on and so forth #mufc\",\n",
        "    \"@WestHamUtd we need to keep @CH14_ and get @HirvingLozano70 to compliment\",\n",
        "    \"@kevdev9 @Everton Shouldn’t be happening! Needs to stay away with his venomous attitude until he is sold!\",\n",
        "    \"@brfootball @aguerosergiokun @ManCity What a genius. Pep taking winning mentality with him, conquering league after league. Baller\",\n",
        "    \"@HMZ0709 Can we get a RT for our #lfc Mo Salah Liverpool Enamel Pin Badge\"\n",
        "]"
      ],
      "metadata": {
        "id": "E7mZC9aI3iEU"
      },
      "execution_count": 28,
      "outputs": []
    },
    {
      "cell_type": "markdown",
      "source": [
        "# Passo 7: Analisando os tweets"
      ],
      "metadata": {
        "id": "KjWgdECw3l87"
      }
    },
    {
      "cell_type": "code",
      "source": [
        "print(\"Iniciando análise de tweets...\\n\")\n",
        "\n",
        "for item in tweets:\n",
        "    try:\n",
        "        doc = nlp(item)\n",
        "        sentiment = {\n",
        "            'tweet': item[:50] + \"...\" if len(item) > 50 else item,\n",
        "            'score': round(doc._.polarity, 3),\n",
        "            'sentiment': 'positivo' if doc._.polarity > 0.1 else 'negativo' if doc._.polarity < -0.1 else 'neutro'\n",
        "        }\n",
        "        print(sentiment)\n",
        "        print(\"---\")\n",
        "    except Exception as e:\n",
        "        print(f\"Erro ao processar tweet: {str(e)}\")\n",
        "        print(\"---\")"
      ],
      "metadata": {
        "colab": {
          "base_uri": "https://localhost:8080/"
        },
        "collapsed": true,
        "outputId": "a0a2f27d-ee65-4418-a707-d4e829a93cbe",
        "id": "pYR3Z2Tw3pGC"
      },
      "execution_count": 31,
      "outputs": [
        {
          "output_type": "stream",
          "name": "stdout",
          "text": [
            "Iniciando análise de tweets...\n",
            "\n",
            "{'tweet': 'Bayer Leverkusen goalkeeper Bernd Leno will not be...', 'score': -0.031, 'Avaliação': 'neutro'}\n",
            "---\n",
            "{'tweet': \"@ChelseaFC Don't make him regret it and start him ...\", 'score': 0.0, 'Avaliação': 'neutro'}\n",
            "---\n",
            "{'tweet': \"@LiverpoolFF @AnfieldEdition He's a liar, made up....\", 'score': 0.214, 'Avaliação': 'positivo'}\n",
            "---\n",
            "{'tweet': \"@theesk @Everton Didn't realise Kenwright is due t...\", 'score': 0.062, 'Avaliação': 'neutro'}\n",
            "---\n",
            "{'tweet': '@hasanshahbaz19 @LFC My knowledge has decreased so...', 'score': -0.283, 'Avaliação': 'negativo'}\n",
            "---\n",
            "{'tweet': 'Report: Linked with #Everton and #Wolves, Italians...', 'score': 0.0, 'Avaliação': 'neutro'}\n",
            "---\n",
            "{'tweet': 'Am seeing tweets that there’s been a fall out @Eve...', 'score': 0.312, 'Avaliação': 'positivo'}\n",
            "---\n",
            "{'tweet': '@LFC @officialAL20 @IntChampionsCup @ManUtd Expect...', 'score': -0.4, 'Avaliação': 'negativo'}\n",
            "---\n",
            "{'tweet': '@MartinDiamond17 @azryahmad @Baren_D @Mathewlewis1...', 'score': -0.042, 'Avaliação': 'neutro'}\n",
            "---\n",
            "{'tweet': 'What a weekend of football results! @ManUtd @Glent...', 'score': 0.0, 'Avaliação': 'neutro'}\n",
            "---\n",
            "{'tweet': '@ChelseaFC For the first time in a long while, my ...', 'score': 0.392, 'Avaliação': 'positivo'}\n",
            "---\n",
            "{'tweet': '@ChelseaFC @CesarAzpi What a fantastic signing wor...', 'score': 0.21, 'Avaliação': 'positivo'}\n",
            "---\n",
            "{'tweet': 'Pogba scores, Pogba assists. But tomorrow papers w...', 'score': -0.65, 'Avaliação': 'negativo'}\n",
            "---\n",
            "{'tweet': '@WestHamUtd we need to keep @CH14_ and get @Hirvin...', 'score': 0.0, 'Avaliação': 'neutro'}\n",
            "---\n",
            "{'tweet': '@kevdev9 @Everton Shouldn’t be happening! Needs to...', 'score': 0.0, 'Avaliação': 'neutro'}\n",
            "---\n",
            "{'tweet': '@brfootball @aguerosergiokun @ManCity What a geniu...', 'score': 0.5, 'Avaliação': 'positivo'}\n",
            "---\n",
            "{'tweet': '@HMZ0709 Can we get a RT for our #lfc Mo Salah Liv...', 'score': 0.0, 'Avaliação': 'neutro'}\n",
            "---\n"
          ]
        }
      ]
    }
  ]
}